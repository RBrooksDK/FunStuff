{
 "cells": [
  {
   "cell_type": "code",
   "execution_count": null,
   "metadata": {},
   "outputs": [],
   "source": [
    "\n",
    "import requests\n",
    "import pandas as pd\n",
    "from io import BytesIO\n",
    "from IPython.display import display  # Import the display function\n",
    "import numpy as np\n",
    "\n",
    "# Direct download link for the Google Drive file\n",
    "direct_link = 'https://drive.google.com/uc?export=download&id=1OV_SnmOufEOhH2kSRHjd_gZYgEeKO9G8'\n",
    "\n",
    "response = requests.get(direct_link)\n",
    "if response.status_code == 200:\n",
    "    # The content is an Excel file, so we use BytesIO to handle it\n",
    "    excel_data = BytesIO(response.content)\n",
    "    # Read all sheets into a dictionary of DataFrames\n",
    "    dfs = pd.read_excel(excel_data, sheet_name=None)\n",
    "    \n",
    "    # Function to apply to each cell\n",
    "    def convert_cell(cell):\n",
    "        if pd.isnull(cell):  # Check if the cell is NaN\n",
    "            return ' '  # Replace NaN with a space\n",
    "        elif isinstance(cell, (int, float)):  # Check if the cell is a number\n",
    "            return int(cell)  # Convert numbers to integers\n",
    "        return cell  # Leave any other values unchanged\n",
    "    \n",
    "    # Mapping of original sheet names to new names\n",
    "    name_mapping = {\n",
    "        'League_119': 'Superligaen',\n",
    "        'League_39': 'Premier League',\n",
    "        'League_140': 'La Liga',\n",
    "        'League_135': 'Serie A',\n",
    "        'League_78': 'Bundesliga'\n",
    "    }\n",
    "    \n",
    "    # Iterate over the dictionary and adjust each DataFrame\n",
    "    for sheet_name, df in dfs.items():\n",
    "        # Apply the function to each cell in the DataFrame\n",
    "        df = df.applymap(convert_cell)\n",
    "\n",
    "        # Use the mapping to get the new name, or default to the original name if not found in the mapping\n",
    "        display_name = name_mapping.get(sheet_name, sheet_name)\n",
    "        \n",
    "        # Adjust row index to start at 1\n",
    "        df.index = range(1, len(df) + 1)\n",
    "        \n",
    "        # Display the sheet name and the adjusted DataFrame\n",
    "        print(f\"League: {display_name}\")\n",
    "        display(df)\n",
    "else:\n",
    "    print(\"Failed to download the file.\")\n",
    "\n",
    "#| output: false\n",
    "#| echo: false\n",
    "print(\"This code will not be displayed, nor the output\")"
   ]
  }
 ],
 "metadata": {
  "kernelspec": {
   "display_name": "base",
   "language": "python",
   "name": "python3"
  },
  "language_info": {
   "codemirror_mode": {
    "name": "ipython",
    "version": 3
   },
   "file_extension": ".py",
   "mimetype": "text/x-python",
   "name": "python",
   "nbconvert_exporter": "python",
   "pygments_lexer": "ipython3",
   "version": "3.11.4"
  }
 },
 "nbformat": 4,
 "nbformat_minor": 2
}
